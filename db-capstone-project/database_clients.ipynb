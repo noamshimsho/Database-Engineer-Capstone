{
 "cells": [
  {
   "cell_type": "code",
   "execution_count": 1,
   "metadata": {},
   "outputs": [],
   "source": [
    "import mysql.connector as connector"
   ]
  },
  {
   "cell_type": "code",
   "execution_count": 3,
   "metadata": {},
   "outputs": [],
   "source": [
    "#create connection to the littlelemondb\n",
    "connection = connector.connect(user = \"Capstone\", password = \"GV05ns12\", db = \"littlelemondb\")"
   ]
  },
  {
   "cell_type": "code",
   "execution_count": 4,
   "metadata": {},
   "outputs": [],
   "source": [
    "cursor = connection.cursor()"
   ]
  },
  {
   "cell_type": "code",
   "execution_count": 8,
   "metadata": {},
   "outputs": [
    {
     "name": "stdout",
     "output_type": "stream",
     "text": [
      "Table name is:  audits\n",
      "Table name is:  bookings\n",
      "Table name is:  customers\n",
      "Table name is:  employees\n",
      "Table name is:  menu\n",
      "Table name is:  menuitems\n",
      "Table name is:  orders\n",
      "Table name is:  orderstatus\n",
      "Table name is:  ordersview\n"
     ]
    }
   ],
   "source": [
    "#query the database to show all tables within the database \n",
    "show_tables_query = \"SHOW tables\" \n",
    "cursor.execute(show_tables_query)\n",
    "results = cursor.fetchall()\n",
    "for res in results:\n",
    "    print(\"Table name is: \", res[0])"
   ]
  },
  {
   "cell_type": "code",
   "execution_count": 12,
   "metadata": {},
   "outputs": [
    {
     "name": "stdout",
     "output_type": "stream",
     "text": [
      "('first_name', 'last_name', 'contact_num')\n",
      "('Anna', 'Iversen', '99999')\n",
      "('Vanessa', 'McCarthy', '33333')\n"
     ]
    }
   ],
   "source": [
    "#return the full name and contact details, for every customer that has placed an order greater than $60.\n",
    "\n",
    "query = \"\"\"\n",
    "SELECT customers.first_name\n",
    "\t,customers.last_name\n",
    "\t,customers.contact_num\n",
    "FROM customers\n",
    "INNER JOIN bookings ON customers.customer_id = bookings.customer_id\n",
    "INNER JOIN orders ON bookings.booking_id = orders.booking_id\n",
    "WHERE orders.cost > 60;\n",
    "\"\"\"\n",
    "cursor.execute(query)\n",
    "results = cursor.fetchall()\n",
    "\n",
    "print(cursor.column_names)\n",
    "for res in results:\n",
    "    print(res)"
   ]
  }
 ],
 "metadata": {
  "kernelspec": {
   "display_name": "Python 3",
   "language": "python",
   "name": "python3"
  },
  "language_info": {
   "codemirror_mode": {
    "name": "ipython",
    "version": 3
   },
   "file_extension": ".py",
   "mimetype": "text/x-python",
   "name": "python",
   "nbconvert_exporter": "python",
   "pygments_lexer": "ipython3",
   "version": "3.8.1"
  },
  "orig_nbformat": 4,
  "vscode": {
   "interpreter": {
    "hash": "570feb405e2e27c949193ac68f46852414290d515b0ba6e5d90d076ed2284471"
   }
  }
 },
 "nbformat": 4,
 "nbformat_minor": 2
}
